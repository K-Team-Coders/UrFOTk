{
 "cells": [
  {
   "cell_type": "code",
   "execution_count": null,
   "id": "52d5777a",
   "metadata": {},
   "outputs": [],
   "source": [
    "import cv2\n",
    "import json\n",
    "from tqdm import tqdm\n",
    "import os\n",
    "\n",
    "from ocrpipeline.predictor import PipelinePredictor\n",
    "from ocrpipeline.utils import get_image_visualization"
   ]
  },
  {
   "cell_type": "code",
   "execution_count": null,
   "id": "e28fa638",
   "metadata": {},
   "outputs": [],
   "source": [
    "PIPELINE_CONFIG_PATH = '/workdir/scripts/pipeline_config.json'\n",
    "\n",
    "# Path to json with segmentation dataset annotation in COCO format\n",
    "DATA_JSON_PATH = ''\n",
    "\n",
    "# Path to folder with evaluation images\n",
    "IMAGE_ROOT = ''\n",
    "\n",
    "# Folder to save prediction json (one for each image)\n",
    "SAVE_FOLDER = ''"
   ]
  },
  {
   "cell_type": "code",
   "execution_count": null,
   "id": "3f86e0c3",
   "metadata": {},
   "outputs": [],
   "source": [
    "predictor = PipelinePredictor(pipeline_config_path=PIPELINE_CONFIG_PATH)"
   ]
  },
  {
   "cell_type": "code",
   "execution_count": null,
   "id": "7604b61c",
   "metadata": {},
   "outputs": [],
   "source": [
    "os.makedirs(SAVE_FOLDER, exist_ok=True)\n",
    "\n",
    "with open(DATA_JSON_PATH, 'r') as f:\n",
    "    data = json.load(f)\n",
    "\n",
    "for data_img in tqdm(data['images']):\n",
    "    img_name = data_img['file_name']\n",
    "    image = cv2.imread(os.path.join(IMAGE_ROOT, img_name))\n",
    "\n",
    "    rotated_image, pred_data = predictor(image)\n",
    "\n",
    "    pred_json_name = os.path.splitext(img_name)[0] + '.json'\n",
    "    pred_json_path = os.path.join(SAVE_FOLDER, pred_json_name)\n",
    "    with open(pred_json_path, 'w') as f:\n",
    "        json.dump(pred_data, f)"
   ]
  },
  {
   "cell_type": "code",
   "execution_count": null,
   "id": "f6188cbc",
   "metadata": {},
   "outputs": [],
   "source": [
    "! python evaluate.py \\\n",
    "    --annotation_json_path {DATA_JSON_PATH} \\\n",
    "    --ann_class_names pupil_text pupil_comment teacher_comment \\\n",
    "    --pred_class_names shrinked_pupil_text shrinked_comments \\\n",
    "    --pred_jsons_dir {SAVE_FOLDER}"
   ]
  }
 ],
 "metadata": {
  "kernelspec": {
   "display_name": "Python 3 (ipykernel)",
   "language": "python",
   "name": "python3"
  },
  "language_info": {
   "codemirror_mode": {
    "name": "ipython",
    "version": 3
   },
   "file_extension": ".py",
   "mimetype": "text/x-python",
   "name": "python",
   "nbconvert_exporter": "python",
   "pygments_lexer": "ipython3",
   "version": "3.7.12"
  }
 },
 "nbformat": 4,
 "nbformat_minor": 5
}
